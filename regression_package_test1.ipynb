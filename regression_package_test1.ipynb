{
 "cells": [
  {
   "cell_type": "code",
   "execution_count": 1,
   "metadata": {},
   "outputs": [
    {
     "name": "stdout",
     "output_type": "stream",
     "text": [
      "32779\n"
     ]
    }
   ],
   "source": [
    "import matplotlib.pyplot as plt\n",
    "import numpy as np\n",
    "import pandas as pd\n",
    "\n",
    "# importing all of the libraries required\n",
    "data = pd.read_csv(\"train.csv\")\n",
    "dataframe = pd.DataFrame(data).dropna()\n",
    "dataframe = dataframe[dataframe.Furnishing != 'NA']\n",
    "dataframe = dataframe[dataframe.Power_Backup != 'NOT MENTIONED']\n",
    "dataframe = dataframe[dataframe.Water_Supply != 'NOT MENTIONED']\n",
    "# droping all rows with NaN or NA or NOT MENTIONED\n",
    "\n",
    "df = dataframe.copy()\n",
    "data_size = len(df)\n",
    "print(data_size)"
   ]
  },
  {
   "cell_type": "code",
   "execution_count": 2,
   "metadata": {},
   "outputs": [],
   "source": [
    "df['Property_Type'] = df['Property_Type'].replace(['Container Home','Apartment','Duplex','#R%$G&867','Single-family home','Bungalow'],[1,2,3,4,5,6])\n",
    "df['Furnishing'] = df['Furnishing'].replace(['Unfurnished','Semi_Furnished','Fully Furnished','NA'],[1,2,3,0])\n",
    "df['Power_Backup'] = df['Power_Backup'].replace(['Yes','No','NOT MENTIONED'],[2,1,0])\n",
    "df['Water_Supply'] = df['Water_Supply'].replace(['All time','Once in a day - Morning','Once in a day - Evening','Once in two days','NOT MENTIONED'],[4,3,2,1,0])\n",
    "df['Crime_Rate'] = df['Crime_Rate'].replace(['Well below average','Slightly below average','Slightly above average','Well above average'],[4,3,2,1])\n",
    "df['Dust_and_Noise'] = df['Dust_and_Noise'].replace(['High','Medium','Low'],[1,2,3])\n",
    "# Maintaining all columns with string entries to convert them to numerical entries"
   ]
  },
  {
   "cell_type": "code",
   "execution_count": 3,
   "metadata": {},
   "outputs": [],
   "source": [
    "X1 = df[\"Property_Type\"].to_numpy(float)\n",
    "X2 = df[\"Property_Area\"].to_numpy(float)\n",
    "X3 = df[\"Number_of_Windows\"].to_numpy(float)\n",
    "X4 = df[\"Number_of_Doors\"].to_numpy(float)\n",
    "X5 = df[\"Furnishing\"].to_numpy(float)\n",
    "X6 = df[\"Frequency_of_Powercuts\"].to_numpy(float)\n",
    "X7 = df[\"Power_Backup\"].to_numpy(float)\n",
    "X8 = df[\"Water_Supply\"].to_numpy(float)\n",
    "X9 = df[\"Traffic_Density_Score\"].to_numpy(float)\n",
    "XA = df[\"Crime_Rate\"].to_numpy(float)\n",
    "XB = df[\"Dust_and_Noise\"].to_numpy(float)\n",
    "XC = df[\"Air_Quality_Index\"].to_numpy(float)\n",
    "XD = df[\"Neighborhood_Review\"].to_numpy(float)\n",
    "Y = df[\"Habitability_score\"].to_numpy(float)\n",
    "# making numpy arrays out of each column"
   ]
  },
  {
   "cell_type": "code",
   "execution_count": 4,
   "metadata": {},
   "outputs": [],
   "source": [
    "Ones = np.ones(data_size)\n",
    "Y_train = Y.reshape((data_size,1))\n",
    "W = np.random.rand(14,1)\n",
    "X = np.dstack((Ones,X1,X2,X3,X4,X5,X6,X7,X8,X9,XA,XB,XC,XD))[0]\n",
    "Xtrans = np.transpose(X)\n",
    "W = np.matmul(np.linalg.inv(np.matmul(Xtrans,X)),np.matmul(Xtrans,Y_train))\n",
    "# creating random weight matrix and calculating weight matrix according to inv(XTX)*(XTY)"
   ]
  },
  {
   "cell_type": "code",
   "execution_count": 5,
   "metadata": {},
   "outputs": [],
   "source": [
    "test_data = pd.read_csv(\"test.csv\")\n",
    "testing_data = test_data.fillna(0)\n",
    "testing_data['Property_Type'] = testing_data['Property_Type'].replace(['Container Home','Apartment','Duplex','#R%$G&867','Single-family home','Bungalow'],[1,2,3,4,5,6])\n",
    "testing_data['Furnishing'] = testing_data['Furnishing'].replace(['Unfurnished','Semi_Furnished','Fully Furnished','NA'],[1,2,3,0])\n",
    "testing_data['Power_Backup'] = testing_data['Power_Backup'].replace(['Yes','No','NOT MENTIONED'],[2,1,0])\n",
    "testing_data['Water_Supply'] = testing_data['Water_Supply'].replace(['All time','Once in a day - Morning','Once in a day - Evening','Once in two days','NOT MENTIONED'],[4,3,2,1,0])\n",
    "testing_data['Crime_Rate'] = testing_data['Crime_Rate'].replace(['Well below average','Slightly below average','Slightly above average','Well above average'],[4,3,2,1])\n",
    "testing_data['Dust_and_Noise'] = testing_data['Dust_and_Noise'].replace(['High','Medium','Low'],[1,2,3])\n",
    "# maintaining testing data to give numerical inputs\n"
   ]
  },
  {
   "cell_type": "code",
   "execution_count": 6,
   "metadata": {},
   "outputs": [],
   "source": [
    "testing_data['Habitability_score'] = W[0][0] + W[1][0]*testing_data['Property_Type'] + W[2][0]*testing_data['Property_Area']\n",
    "testing_data['Habitability_score'] +=W[3][0]*testing_data['Number_of_Windows'] + W[4][0]*testing_data['Number_of_Doors'] + W[5][0]*testing_data['Furnishing'] \n",
    "testing_data['Habitability_score'] +=W[6][0]*testing_data['Frequency_of_Powercuts'] + W[7][0]*testing_data['Power_Backup'] + W[8][0]*testing_data['Water_Supply'] \n",
    "testing_data['Habitability_score'] +=W[9][0]*testing_data['Traffic_Density_Score'] + W[10][0]*testing_data['Crime_Rate'] + W[11][0]*testing_data['Dust_and_Noise']\n",
    "testing_data['Habitability_score'] +=W[12][0]*testing_data['Air_Quality_Index'] + W[13][0]*testing_data['Neighborhood_Review']\n",
    "# testing the data on the model"
   ]
  },
  {
   "cell_type": "code",
   "execution_count": 7,
   "metadata": {},
   "outputs": [],
   "source": [
    "dict = {'Property_ID':testing_data['Property_ID'],'Habitability_score':testing_data['Habitability_score']}\n",
    "result = pd.DataFrame(dict)\n",
    "result.to_csv('result1.csv',index=False)\n",
    "# Storing the results in according to format specified"
   ]
  }
 ],
 "metadata": {
  "kernelspec": {
   "display_name": "Python 3.8.1 32-bit",
   "language": "python",
   "name": "python3"
  },
  "language_info": {
   "codemirror_mode": {
    "name": "ipython",
    "version": 3
   },
   "file_extension": ".py",
   "mimetype": "text/x-python",
   "name": "python",
   "nbconvert_exporter": "python",
   "pygments_lexer": "ipython3",
   "version": "3.8.1"
  },
  "orig_nbformat": 4,
  "vscode": {
   "interpreter": {
    "hash": "29c7a3964a9838c84f1d19dc4c2535ace62f5c920b4276f4747fa80ddec8638a"
   }
  }
 },
 "nbformat": 4,
 "nbformat_minor": 2
}
