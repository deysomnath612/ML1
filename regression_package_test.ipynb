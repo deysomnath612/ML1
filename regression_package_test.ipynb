{
 "cells": [
  {
   "cell_type": "code",
   "execution_count": 11,
   "metadata": {},
   "outputs": [
    {
     "name": "stdout",
     "output_type": "stream",
     "text": [
      "32779\n"
     ]
    }
   ],
   "source": [
    "import matplotlib.pyplot as plt\n",
    "import numpy as np\n",
    "import pandas as pd\n",
    "from sklearn.linear_model import LinearRegression as LR\n",
    "from sklearn.preprocessing import PolynomialFeatures as PF\n",
    "from sklearn.metrics import r2_score\n",
    "# importing all of the libraries required\n",
    "data = pd.read_csv(\"train.csv\")\n",
    "dataframe = pd.DataFrame(data).dropna()\n",
    "dataframe = dataframe[dataframe.Furnishing != 'NA']\n",
    "dataframe = dataframe[dataframe.Power_Backup != 'NOT MENTIONED']\n",
    "dataframe = dataframe[dataframe.Water_Supply != 'NOT MENTIONED']\n",
    "# droping all rows with NaN or NA or NOT MENTIONED\n",
    "\n",
    "df = dataframe.copy()\n",
    "data_size = len(df)\n",
    "print(data_size)\n"
   ]
  },
  {
   "cell_type": "code",
   "execution_count": 12,
   "metadata": {},
   "outputs": [],
   "source": [
    "df['Property_Type'] = df['Property_Type'].replace(['Container Home','Apartment','Duplex','#R%$G&867','Single-family home','Bungalow'],[1,2,3,4,5,6])\n",
    "df['Furnishing'] = df['Furnishing'].replace(['Unfurnished','Semi_Furnished','Fully Furnished','NA'],[1,2,3,0])\n",
    "df['Power_Backup'] = df['Power_Backup'].replace(['Yes','No','NOT MENTIONED'],[2,1,0])\n",
    "df['Water_Supply'] = df['Water_Supply'].replace(['All time','Once in a day - Morning','Once in a day - Evening','Once in two days','NOT MENTIONED'],[4,3,2,1,0])\n",
    "df['Crime_Rate'] = df['Crime_Rate'].replace(['Well below average','Slightly below average','Slightly above average','Well above average'],[4,3,2,1])\n",
    "df['Dust_and_Noise'] = df['Dust_and_Noise'].replace(['High','Medium','Low'],[1,2,3])\n",
    "# Maintaining all columns with string entries to convert them to numerical entries"
   ]
  },
  {
   "cell_type": "code",
   "execution_count": 13,
   "metadata": {},
   "outputs": [],
   "source": [
    "X1 = df[\"Property_Type\"].to_numpy(float)\n",
    "X2 = df[\"Property_Area\"].to_numpy(float)\n",
    "X3 = df[\"Number_of_Windows\"].to_numpy(float)\n",
    "X4 = df[\"Number_of_Doors\"].to_numpy(float)\n",
    "X5 = df[\"Furnishing\"].to_numpy(float)\n",
    "X6 = df[\"Frequency_of_Powercuts\"].to_numpy(float)\n",
    "X7 = df[\"Power_Backup\"].to_numpy(float)\n",
    "X8 = df[\"Water_Supply\"].to_numpy(float)\n",
    "X9 = df[\"Traffic_Density_Score\"].to_numpy(float)\n",
    "XA = df[\"Crime_Rate\"].to_numpy(float)\n",
    "XB = df[\"Dust_and_Noise\"].to_numpy(float)\n",
    "XC = df[\"Air_Quality_Index\"].to_numpy(float)\n",
    "XD = df[\"Neighborhood_Review\"].to_numpy(float)\n",
    "Y = df[\"Habitability_score\"].to_numpy(float)\n",
    "# making numpy arrays out of each column"
   ]
  },
  {
   "cell_type": "code",
   "execution_count": 14,
   "metadata": {},
   "outputs": [],
   "source": [
    "Y_train = Y.reshape((data_size,1))\n",
    "XLR = np.dstack((X1,X2,X3,X4,X5,X6,X7,X8,X9,XA,XB,XC,XD))[0]\n",
    "YLR = Y_train.reshape(32779,)\n",
    "XLR = PF(degree=2, include_bias=False).fit_transform(XLR)\n",
    "model = LR().fit(XLR,YLR)\n",
    "r_sq = model.score(XLR,YLR)\n",
    "# reshaping and fitting into degree 2 multivariate regression model"
   ]
  },
  {
   "cell_type": "code",
   "execution_count": 15,
   "metadata": {},
   "outputs": [],
   "source": [
    "test_data = pd.read_csv(\"test.csv\")\n",
    "testing_data = test_data.fillna(0)\n",
    "testing_data['Property_Type'] = testing_data['Property_Type'].replace(['Container Home','Apartment','Duplex','#R%$G&867','Single-family home','Bungalow'],[1,2,3,4,5,6])\n",
    "testing_data['Furnishing'] = testing_data['Furnishing'].replace(['Unfurnished','Semi_Furnished','Fully Furnished','NA'],[1,2,3,0])\n",
    "testing_data['Power_Backup'] = testing_data['Power_Backup'].replace(['Yes','No','NOT MENTIONED'],[2,1,0])\n",
    "testing_data['Water_Supply'] = testing_data['Water_Supply'].replace(['All time','Once in a day - Morning','Once in a day - Evening','Once in two days','NOT MENTIONED'],[4,3,2,1,0])\n",
    "testing_data['Crime_Rate'] = testing_data['Crime_Rate'].replace(['Well below average','Slightly below average','Slightly above average','Well above average'],[4,3,2,1])\n",
    "testing_data['Dust_and_Noise'] = testing_data['Dust_and_Noise'].replace(['High','Medium','Low'],[1,2,3])\n",
    "# maintaing testing data to give numerical inputs\n",
    "# print(np.shape(W),np.shape(X),np.shape(testing_data['Property_Type']))\n",
    "Xtest1 = testing_data[\"Property_Type\"].to_numpy(float)\n",
    "Xtest2 = testing_data[\"Property_Area\"].to_numpy(float)\n",
    "Xtest3 = testing_data[\"Number_of_Windows\"].to_numpy(float)\n",
    "Xtest4 = testing_data[\"Number_of_Doors\"].to_numpy(float)\n",
    "Xtest5 = testing_data[\"Furnishing\"].to_numpy(float)\n",
    "Xtest6 = testing_data[\"Frequency_of_Powercuts\"].to_numpy(float)\n",
    "Xtest7 = testing_data[\"Power_Backup\"].to_numpy(float)\n",
    "Xtest8 = testing_data[\"Water_Supply\"].to_numpy(float)\n",
    "Xtest9 = testing_data[\"Traffic_Density_Score\"].to_numpy(float)\n",
    "XtestA = testing_data[\"Crime_Rate\"].to_numpy(float)\n",
    "XtestB = testing_data[\"Dust_and_Noise\"].to_numpy(float)\n",
    "XtestC = testing_data[\"Air_Quality_Index\"].to_numpy(float)\n",
    "XtestD = testing_data[\"Neighborhood_Review\"].to_numpy(float)\n",
    "XLRtest = np.dstack((Xtest1,Xtest2,Xtest3,Xtest4,Xtest5,Xtest6,Xtest7,Xtest8,Xtest9,XtestA,XtestB,XtestC,XtestD))[0]"
   ]
  },
  {
   "cell_type": "code",
   "execution_count": 16,
   "metadata": {},
   "outputs": [],
   "source": [
    "XLRtest = PF(degree=2, include_bias=False).fit_transform(XLRtest)\n",
    "y_pred = model.predict(XLRtest)\n",
    "dict = {'Property_ID':testing_data['Property_ID'],'Habitability_score':y_pred}\n",
    "result = pd.DataFrame(dict)\n",
    "result.to_csv('result.csv',index=False)\n",
    "# testing the data on the model and storing the results"
   ]
  }
 ],
 "metadata": {
  "kernelspec": {
   "display_name": "Python 3.8.1 32-bit",
   "language": "python",
   "name": "python3"
  },
  "language_info": {
   "codemirror_mode": {
    "name": "ipython",
    "version": 3
   },
   "file_extension": ".py",
   "mimetype": "text/x-python",
   "name": "python",
   "nbconvert_exporter": "python",
   "pygments_lexer": "ipython3",
   "version": "3.8.1"
  },
  "orig_nbformat": 4,
  "vscode": {
   "interpreter": {
    "hash": "29c7a3964a9838c84f1d19dc4c2535ace62f5c920b4276f4747fa80ddec8638a"
   }
  }
 },
 "nbformat": 4,
 "nbformat_minor": 2
}
