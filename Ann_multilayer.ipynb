{
 "cells": [
  {
   "cell_type": "code",
   "execution_count": 1,
   "metadata": {},
   "outputs": [],
   "source": [
    "import matplotlib.pyplot as plt\n",
    "import numpy as np\n",
    "import pandas as pd\n",
    "from ANN import FClayer\n",
    "from ANN import ActivationLayer\n",
    "from ANN import NetworkLayer"
   ]
  },
  {
   "cell_type": "code",
   "execution_count": 2,
   "metadata": {},
   "outputs": [],
   "source": [
    "data1 =  pd.read_csv('iris.data', sep=\",\", header=None, names=[\"sl\",\"sw\",\"pl\",\"pw\",\"class\"])\n",
    "#print(data1)\n",
    "data2 = pd.read_csv('bezdekIris.data', sep=',', header = None, names=[\"sl\",\"sw\",\"pl\",\"pw\",\"class\"])\n",
    "#print(data2) \n",
    "\n",
    "# %%\n",
    "SL = data1[\"sl\"].to_numpy(float)\n",
    "SW = data1[\"sw\"].to_numpy(float)\n",
    "PL = data1[\"pl\"].to_numpy(float)\n",
    "PW = data1[\"pw\"].to_numpy(float)\n",
    "CL = data1[\"class\"].to_numpy(str)\n",
    "Y=[]\n",
    "for i in CL:\n",
    "    if i == 'Iris-setosa':\n",
    "        Y.append([0,0,1])\n",
    "    elif i == 'Iris-versicolor':\n",
    "        Y.append([0,1,0])\n",
    "    else:\n",
    "        Y.append([1,0,0])\n",
    "#print(Y)"
   ]
  },
  {
   "cell_type": "code",
   "execution_count": 3,
   "metadata": {},
   "outputs": [],
   "source": [
    "Y = np.array(Y)\n",
    "Ones = np.ones((150,))\n",
    "datainput = np.dstack((Ones,SL,SW,PL,PW,Y[:,0],Y[:,1],Y[:,2]))[0]\n",
    "#print(datainput)\n",
    "dataframe = pd.DataFrame(datainput)\n",
    "train_df = dataframe.sample(frac=0.7)\n",
    "#print(train_df)\n",
    "testing_dataframe = dataframe.copy(deep=True)\n",
    "testing_dataframe = testing_dataframe.drop(train_df.index)\n",
    "testing_data = testing_dataframe.drop(testing_dataframe.columns[[5,6,7]], axis = 1).to_numpy().reshape(45,1,5)\n",
    "class_data = testing_dataframe.drop(testing_dataframe.columns[[0,1,2,3,4]], axis = 1).to_numpy().reshape(45,1,3)\n",
    "#print(testing_data)\n",
    "\n",
    "# %%\n",
    "df_train = train_df.to_numpy()[:,0:5].reshape(105,1,5)\n",
    "#print(df_train)\n",
    "df_class = train_df.to_numpy()[:,5:].reshape(105,1,3)"
   ]
  },
  {
   "cell_type": "code",
   "execution_count": 4,
   "metadata": {},
   "outputs": [],
   "source": [
    "def mse(y_true, y_pred):\n",
    "    return np.mean(np.power(y_true-y_pred, 2))\n",
    "\n",
    "def mse_prime(y_true, y_pred):\n",
    "    return 2*(y_pred-y_true)/y_true.size\n",
    "\n",
    "def tanh(x):\n",
    "    return np.tanh(x)\n",
    "\n",
    "def tanh_prime(x):\n",
    "    return 1-np.tanh(x)**2\n",
    "\n",
    "def sigm(x):\n",
    "    return 1/(1+np.exp(-x))\n",
    "def sigm_prime(x):\n",
    "    return (sigm(x)*(1-sigm(x)))"
   ]
  },
  {
   "cell_type": "code",
   "execution_count": 5,
   "metadata": {},
   "outputs": [
    {
     "name": "stdout",
     "output_type": "stream",
     "text": [
      "[[1.49594396e-04 2.48107481e-01 9.23781543e-01]] [[0. 0. 1.]]\n",
      "[[1.41563608e-04 2.47283535e-01 9.27001521e-01]] [[0. 0. 1.]]\n",
      "[[1.59235653e-04 2.49023969e-01 9.19847787e-01]] [[0. 0. 1.]]\n",
      "[[1.36782265e-04 2.46816153e-01 9.29129750e-01]] [[0. 0. 1.]]\n",
      "[[1.33696538e-04 2.46482053e-01 9.30417013e-01]] [[0. 0. 1.]]\n",
      "[[1.42434914e-04 2.47390928e-01 9.26715820e-01]] [[0. 0. 1.]]\n",
      "[[1.39567372e-04 2.47098735e-01 9.27915980e-01]] [[0. 0. 1.]]\n",
      "[[1.44142395e-04 2.47546734e-01 9.25930956e-01]] [[0. 0. 1.]]\n",
      "[[1.41898718e-04 2.47362264e-01 9.27059299e-01]] [[0. 0. 1.]]\n",
      "[[1.53615367e-04 2.48518387e-01 9.22209971e-01]] [[0. 0. 1.]]\n",
      "[[1.42013402e-04 2.47354466e-01 9.26914631e-01]] [[0. 0. 1.]]\n",
      "[[1.41868232e-04 2.47340854e-01 9.26983274e-01]] [[0. 0. 1.]]\n",
      "[[1.65151990e-04 2.49442994e-01 9.16980282e-01]] [[0. 0. 1.]]\n",
      "[[0.05345    0.33916307 0.05133436]] [[0. 1. 0.]]\n",
      "[[0.19560006 0.36395716 0.01410273]] [[0. 1. 0.]]\n",
      "[[0.27385144 0.37157688 0.00950851]] [[0. 1. 0.]]\n",
      "[[0.28603649 0.37261481 0.00899513]] [[0. 1. 0.]]\n",
      "[[0.0189647  0.32153768 0.12591064]] [[0. 1. 0.]]\n",
      "[[0.0442749  0.33587742 0.06092496]] [[0. 1. 0.]]\n",
      "[[0.04889855 0.33759939 0.0556642 ]] [[0. 1. 0.]]\n",
      "[[0.01942827 0.32190705 0.12328277]] [[0. 1. 0.]]\n",
      "[[0.05475774 0.33960862 0.05026813]] [[0. 1. 0.]]\n",
      "[[0.39950606 0.38149686 0.00568592]] [[0. 1. 0.]]\n",
      "[[0.19068167 0.36342696 0.01452049]] [[0. 1. 0.]]\n",
      "[[0.06498496 0.34265018 0.04289   ]] [[0. 1. 0.]]\n",
      "[[0.02176361 0.32382551 0.11249095]] [[0. 1. 0.]]\n",
      "[[0.16818866 0.36079059 0.0166508 ]] [[0. 1. 0.]]\n",
      "[[0.04240056 0.33512073 0.06328552]] [[0. 1. 0.]]\n",
      "[[0.066972   0.34318536 0.04168353]] [[0. 1. 0.]]\n",
      "[[8.89720728e-01 4.26220716e-01 5.87856455e-04]] [[1. 0. 0.]]\n",
      "[[0.82472755 0.41642519 0.00096049]] [[1. 0. 0.]]\n",
      "[[0.74056217 0.40740447 0.00151386]] [[1. 0. 0.]]\n",
      "[[8.82418989e-01 4.24904979e-01 6.28010604e-04]] [[1. 0. 0.]]\n",
      "[[0.84069046 0.41850252 0.00086523]] [[1. 0. 0.]]\n",
      "[[0.7443928  0.40777067 0.00148724]] [[1. 0. 0.]]\n",
      "[[8.59018772e-01 4.21112812e-01 7.59097327e-04]] [[1. 0. 0.]]\n",
      "[[8.71433728e-01 4.23048743e-01 6.88903003e-04]] [[1. 0. 0.]]\n",
      "[[0.73171019 0.40658661 0.00157822]] [[1. 0. 0.]]\n",
      "[[0.75011269 0.40830904 0.00144601]] [[1. 0. 0.]]\n",
      "[[0.69708173 0.40353637 0.00184197]] [[1. 0. 0.]]\n",
      "[[0.63676435 0.39866321 0.00235858]] [[1. 0. 0.]]\n",
      "[[8.69689288e-01 4.22768027e-01 6.98704241e-04]] [[1. 0. 0.]]\n",
      "[[8.77961327e-01 4.24132949e-01 6.52538154e-04]] [[1. 0. 0.]]\n",
      "[[0.8142206  0.41514219 0.00102494]] [[1. 0. 0.]]\n",
      "[[0.79103334 0.41249241 0.00117094]] [[1. 0. 0.]]\n"
     ]
    }
   ],
   "source": [
    "net = NetworkLayer()\n",
    "net.layers.append(FClayer(5,4))\n",
    "net.layers.append(ActivationLayer(sigm,sigm_prime))\n",
    "net.layers.append(FClayer(4,3))\n",
    "net.layers.append(ActivationLayer(sigm,sigm_prime))\n",
    "net.loss = mse\n",
    "net.loss_deriv = mse_prime\n",
    "error_train = []\n",
    "error_test = []\n",
    "epochs = 3000\n",
    "for i in range(epochs):\n",
    "    error_train.append(net.train(df_train,df_class,epochs=1,learn_rate=0.02))\n",
    "    out = net.testing(testing_data)\n",
    "    error_test.append(mse(class_data,out))\n",
    "\n",
    "for i in range(len(out)):\n",
    "    print(out[i],class_data[i])"
   ]
  },
  {
   "cell_type": "code",
   "execution_count": 7,
   "metadata": {},
   "outputs": [
    {
     "data": {
      "image/png": "[encoded data removed]",
      "text/plain": [
       "<Figure size 1296x360 with 1 Axes>"
      ]
     },
     "metadata": {
      "needs_background": "light"
     },
     "output_type": "display_data"
    }
   ],
   "source": [
    "fig, ax = plt.subplots()\n",
    "fig.set_size_inches(18, 5)\n",
    "tr_plot, = ax.plot(error_train)\n",
    "te_plot, = ax.plot(error_test)\n",
    "ax.set_xlabel('epoch')\n",
    "ax.set_ylabel('mean error')\n",
    "ax.legend((tr_plot, te_plot), (\"Training\", \"Testing\"), shadow=True)\n",
    "plt.show()"
   ]
  }
 ],
 "metadata": {
  "kernelspec": {
   "display_name": "Python 3.8.1 32-bit",
   "language": "python",
   "name": "python3"
  },
  "language_info": {
   "codemirror_mode": {
    "name": "ipython",
    "version": 3
   },
   "file_extension": ".py",
   "mimetype": "text/x-python",
   "name": "python",
   "nbconvert_exporter": "python",
   "pygments_lexer": "ipython3",
   "version": "3.8.1"
  },
  "orig_nbformat": 4,
  "vscode": {
   "interpreter": {
    "hash": "29c7a3964a9838c84f1d19dc4c2535ace62f5c920b4276f4747fa80ddec8638a"
   }
  }
 },
 "nbformat": 4,
 "nbformat_minor": 2
}
